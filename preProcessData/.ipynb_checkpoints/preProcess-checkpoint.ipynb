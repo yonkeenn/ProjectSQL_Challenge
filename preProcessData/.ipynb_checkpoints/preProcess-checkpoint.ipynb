{
 "cells": [
  {
   "cell_type": "code",
   "execution_count": 1,
   "id": "96fd4fc5-6f97-4312-a25a-53bca797b334",
   "metadata": {},
   "outputs": [],
   "source": [
    "import pandas as pd\n",
    "import numpy as np\n",
    "import sklearn as sk\n",
    "\n",
    "import firebase_admin\n",
    "from firebase_admin import db"
   ]
  },
  {
   "cell_type": "code",
   "execution_count": null,
   "id": "b1efabc5-f941-4780-8ee4-89309af2a7df",
   "metadata": {},
   "outputs": [],
   "source": [
    "databaseURL = 'https://twitterdata-1fc9d-default-rtdb.firebaseio.com/'\n",
    "credentials = firebase_admin.credentials.Certificate('./twitterdataAuthentication.json')\n",
    "default_app = firebase_admin.initialize_app(credentials, {'databaseURL':databaseURL})"
   ]
  },
  {
   "cell_type": "code",
   "execution_count": null,
   "id": "72eadb6b-b339-4606-a745-68f2e845fae0",
   "metadata": {},
   "outputs": [],
   "source": [
    "ref = db.reference(\"/\")"
   ]
  },
  {
   "cell_type": "code",
   "execution_count": null,
   "id": "b843593d-53b2-4d27-86d5-934292a007b4",
   "metadata": {},
   "outputs": [],
   "source": [
    "data = ref.get()"
   ]
  },
  {
   "cell_type": "code",
   "execution_count": null,
   "id": "177b15ae-9b65-475d-9ea5-a62e621cc05b",
   "metadata": {},
   "outputs": [],
   "source": [
    "for key in data:\n",
    "    print(data[key]['b26v89c19zqg8o3fqk718i3jpwza24gyejtoh1uwxrvct'])"
   ]
  },
  {
   "cell_type": "code",
   "execution_count": null,
   "id": "c7e4cda6-7044-4c6d-9151-a9480717ec46",
   "metadata": {},
   "outputs": [],
   "source": [
    "new = pd.DataFrame(data['users']['b26v89c19zqg8o3fqk718i3jpwza24gyejtoh1uwxrvct'])\n",
    "new.head()"
   ]
  }
 ],
 "metadata": {
  "kernelspec": {
   "display_name": "Python 3 (ipykernel)",
   "language": "python",
   "name": "python3"
  },
  "language_info": {
   "codemirror_mode": {
    "name": "ipython",
    "version": 3
   },
   "file_extension": ".py",
   "mimetype": "text/x-python",
   "name": "python",
   "nbconvert_exporter": "python",
   "pygments_lexer": "ipython3",
   "version": "3.9.13"
  }
 },
 "nbformat": 4,
 "nbformat_minor": 5
}
